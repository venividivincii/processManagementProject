{
 "cells": [
  {
   "cell_type": "code",
   "execution_count": 2,
   "id": "543b5bad",
   "metadata": {},
   "outputs": [
    {
     "data": {
      "application/vnd.jupyter.widget-view+json": {
       "model_id": "74da0c6b1c7f48c0b0329f71bd77afe9",
       "version_major": 2,
       "version_minor": 0
      },
      "text/plain": [
       "parsing log, completed traces ::   0%|          | 0/15182 [00:00<?, ?it/s]"
      ]
     },
     "metadata": {},
     "output_type": "display_data"
    }
   ],
   "source": [
    "import pm4py\n",
    "if __name__ == \"__main__\":\n",
    "    log = pm4py.read_xes('BPI_Challenge_2019-3-w-after.xes')"
   ]
  },
  {
   "cell_type": "code",
   "execution_count": 2,
   "id": "2ef64dd4",
   "metadata": {},
   "outputs": [
    {
     "name": "stdout",
     "output_type": "stream",
     "text": [
      "{'attributes': {'concept:name': '2000000001_00001', 'variant': 'Variant 342', 'variant-index': 342, 'creator': 'Fluxicon Disco', '(case) Company': 'companyID_0000', '(case) Document Type': 'EC Purchase order', '(case) GR-Based Inv. Verif.': True, '(case) Goods Receipt': True, '(case) Item': 1, '(case) Item Category': '3-way match, invoice after GR', '(case) Item Type': 'Service', '(case) Name': 'vendor_0001', '(case) Purch. Doc. Category name': 'Purchase order', '(case) Purchasing Document': 2000000001, '(case) Source': 'sourceSystemID_0000', '(case) Spend area text': 'Marketing', '(case) Spend classification text': 'NPR', '(case) Sub spend area text': 'Marketing Support Services', '(case) Vendor': 'vendorID_0001'}, 'events': [{'lifecycle:transition': 'complete', 'time:timestamp': datetime.datetime(2018, 1, 3, 9, 49, tzinfo=datetime.timezone(datetime.timedelta(seconds=3600))), 'Cumulative net worth (EUR)': 557.0, 'User': 'batch_00', 'concept:name': 'SRM: Created', 'org:resource': 'batch_00'}, '..', {'lifecycle:transition': 'complete', 'time:timestamp': datetime.datetime(2019, 1, 17, 11, 58, tzinfo=datetime.timezone(datetime.timedelta(seconds=3600))), 'Cumulative net worth (EUR)': 557.0, 'User': 'user_003', 'concept:name': 'SRM: Transfer Failed (E.Sys.)', 'org:resource': 'user_003'}]}\n"
     ]
    }
   ],
   "source": [
    "print(log[0]) #prints the first trace of the log"
   ]
  },
  {
   "cell_type": "code",
   "execution_count": 3,
   "id": "f534d451",
   "metadata": {},
   "outputs": [
    {
     "name": "stdout",
     "output_type": "stream",
     "text": [
      "{'lifecycle:transition': 'complete', 'time:timestamp': datetime.datetime(2018, 1, 3, 9, 49, tzinfo=datetime.timezone(datetime.timedelta(seconds=3600))), 'Cumulative net worth (EUR)': 557.0, 'User': 'batch_00', 'concept:name': 'SRM: Created', 'org:resource': 'batch_00'}\n"
     ]
    }
   ],
   "source": [
    "print(log[0][0]) #prints the first event of the first trace"
   ]
  },
  {
   "cell_type": "code",
   "execution_count": 12,
   "id": "1c09c65e",
   "metadata": {},
   "outputs": [
    {
     "data": {
      "text/plain": [
       "{'SRM: Created': 564,\n",
       " 'Vendor creates invoice': 356,\n",
       " 'Vendor creates debit memo': 8,\n",
       " 'Create Purchase Order Item': 13035,\n",
       " 'Create Purchase Requisition Item': 1219}"
      ]
     },
     "execution_count": 12,
     "metadata": {},
     "output_type": "execute_result"
    }
   ],
   "source": [
    "# Identify start events\n",
    "log_start = pm4py.get_start_activities(log)\n",
    "log_start"
   ]
  },
  {
   "cell_type": "code",
   "execution_count": null,
   "id": "a14c864d",
   "metadata": {},
   "outputs": [],
   "source": [
    "# Identify start events\n",
    "end_activities = pm4py.get_end_activities(log)\n",
    "end_activities"
   ]
  }
 ],
 "metadata": {
  "kernelspec": {
   "display_name": "Python 3 (ipykernel)",
   "language": "python",
   "name": "python3"
  },
  "language_info": {
   "codemirror_mode": {
    "name": "ipython",
    "version": 3
   },
   "file_extension": ".py",
   "mimetype": "text/x-python",
   "name": "python",
   "nbconvert_exporter": "python",
   "pygments_lexer": "ipython3",
   "version": "3.9.7"
  }
 },
 "nbformat": 4,
 "nbformat_minor": 5
}
