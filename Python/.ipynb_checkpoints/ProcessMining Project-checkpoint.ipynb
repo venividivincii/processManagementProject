{
 "cells": [
  {
   "cell_type": "code",
   "execution_count": 32,
   "id": "9a2c8b91",
   "metadata": {},
   "outputs": [
    {
     "data": {
      "application/vnd.jupyter.widget-view+json": {
       "model_id": "b161cea1eda7476d96a10e08bc45197d",
       "version_major": 2,
       "version_minor": 0
      },
      "text/plain": [
       "parsing log, completed traces ::   0%|          | 0/235 [00:00<?, ?it/s]"
      ]
     },
     "metadata": {},
     "output_type": "display_data"
    },
    {
     "data": {
      "application/vnd.jupyter.widget-view+json": {
       "model_id": "42baa345afbd41c59f8f70b3d5fadd17",
       "version_major": 2,
       "version_minor": 0
      },
      "text/plain": [
       "parsing log, completed traces ::   0%|          | 0/116 [00:00<?, ?it/s]"
      ]
     },
     "metadata": {},
     "output_type": "display_data"
    },
    {
     "data": {
      "application/vnd.jupyter.widget-view+json": {
       "model_id": "db83f5a4f1ac48b4b4b56904f42bc875",
       "version_major": 2,
       "version_minor": 0
      },
      "text/plain": [
       "parsing log, completed traces ::   0%|          | 0/7687 [00:00<?, ?it/s]"
      ]
     },
     "metadata": {},
     "output_type": "display_data"
    }
   ],
   "source": [
    "import pm4py, os\n",
    "\n",
    "#import event logs\n",
    "if __name__ == \"__main__\":\n",
    "    log_ec_purchase_order = pm4py.read_xes(os.path.join(preprocessed_dir, 'EC Purchase order.xes'))\n",
    "    log_framework_purchase_order = pm4py.read_xes(os.path.join(preprocessed_dir, 'Framework order.xes'))\n",
    "    log_standard_po = pm4py.read_xes(os.path.join(preprocessed_dir, 'Standard PO.xes'))"
   ]
  },
  {
   "cell_type": "code",
   "execution_count": 34,
   "id": "3e7e72f8",
   "metadata": {
    "scrolled": true
   },
   "outputs": [],
   "source": [
    "#filter out variants, that only consist of events:\n",
    "#     \"Create Purchase Order Item\", \"Delete Purchase Order Item\"\n",
    "def filter_out_cpoi_dpoi(log):\n",
    "    return pm4py.filter_variants(log, [[\"Create Purchase Order Item\", \"Delete Purchase Order Item\"]], retain=False)\n",
    "\n",
    "#write event log to a xes file in the preprocessed directory\n",
    "def write_log_to_file(log, filename):\n",
    "    path = os.path.join(os.path.dirname(os.getcwd()), 'Preprocessed', filename)\n",
    "    pm4py.write_xes(log, path)"
   ]
  },
  {
   "cell_type": "code",
   "execution_count": 36,
   "id": "c0f142ec",
   "metadata": {},
   "outputs": [
    {
     "data": {
      "application/vnd.jupyter.widget-view+json": {
       "model_id": "9cddc17693184ac793f90b0a4c4ffd1f",
       "version_major": 2,
       "version_minor": 0
      },
      "text/plain": [
       "exporting log, completed traces ::   0%|          | 0/235 [00:00<?, ?it/s]"
      ]
     },
     "metadata": {},
     "output_type": "display_data"
    }
   ],
   "source": [
    "# filter out variants with only (\"Create Purchase Order Item\", \"Delete Purchase Order Item\")\n",
    "log_ec_purchase_order = filter_out_cpoi_dpoi(log_ec_purchase_order)\n",
    "log_framework_purchase_order = filter_out_cpoi_dpoi(log_framework_purchase_order)\n",
    "log_standard_po = filter_out_cpoi_dpoi(log_standard_po)\n",
    "\n",
    "# write filtered logs to files\n",
    "write_log_to_file(log_ec_purchase_order, 'EC Purchase order_preprocessed.xes')\n",
    "write_log_to_file(log_framework_purchase_order, 'Framework order_preprocessed.xes')\n",
    "write_log_to_file(log_standard_po, 'Standard PO_preprocessed.xes')"
   ]
  }
 ],
 "metadata": {
  "kernelspec": {
   "display_name": "Python 3 (ipykernel)",
   "language": "python",
   "name": "python3"
  },
  "language_info": {
   "codemirror_mode": {
    "name": "ipython",
    "version": 3
   },
   "file_extension": ".py",
   "mimetype": "text/x-python",
   "name": "python",
   "nbconvert_exporter": "python",
   "pygments_lexer": "ipython3",
   "version": "3.9.7"
  }
 },
 "nbformat": 4,
 "nbformat_minor": 5
}
