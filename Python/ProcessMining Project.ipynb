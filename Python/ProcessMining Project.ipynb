{
 "cells": [
  {
   "cell_type": "code",
   "execution_count": 2,
   "id": "9a2c8b91",
   "metadata": {},
   "outputs": [
    {
     "data": {
      "application/vnd.jupyter.widget-view+json": {
       "model_id": "9d525fcb868e42eeb8a5febb165555f4",
       "version_major": 2,
       "version_minor": 0
      },
      "text/plain": [
       "parsing log, completed traces ::   0%|          | 0/15182 [00:00<?, ?it/s]"
      ]
     },
     "metadata": {},
     "output_type": "display_data"
    }
   ],
   "source": [
    "import pm4py, os\n",
    "\n",
    "#import event logs\n",
    "if __name__ == \"__main__\":\n",
    "    log = pm4py.read_xes('BPI_Challenge_2019-3-w-after.xes')"
   ]
  },
  {
   "cell_type": "code",
   "execution_count": 32,
   "id": "3e7e72f8",
   "metadata": {
    "scrolled": true
   },
   "outputs": [],
   "source": [
    "# exclude all traces that are not between 2018-01-0 and 2019-01-28\n",
    "def filter_timeframe(log):\n",
    "    return pm4py.filter_time_range(log, \"2018-01-01 00:00:00\", \"2019-01-28 23:59:59\", mode='traces_contained')\n",
    "\n",
    "# group the eventlog by the values of the documentType attribute\n",
    "def group_by_documentType(log):\n",
    "    log_ecPurchaseOrder = pm4py.filter_trace_attribute_values(log, \"(case) Document Type\", [\"EC Purchase order\"], retain = True)\n",
    "    log_frameworkOrder = pm4py.filter_trace_attribute_values(log, \"(case) Document Type\", [\"EC Purchase order\"], retain = True)\n",
    "    log_standardPO = pm4py.filter_trace_attribute_values(log, \"(case) Document Type\", [\"EC Purchase order\"], retain = True)\n",
    "    return log_ecPurchaseOrder, log_frameworkOrder, log_standardPO\n",
    "\n",
    "\n",
    "# removes traces, that have not one of the specified start and end-activities\n",
    "def remove_incomplete_cases(log_ecPurchaseOrder, log_frameworkOrder, log_standardPO):\n",
    "    \n",
    "    # EC Purchase order\n",
    "    log_ecPurchaseOrder = pm4py.filter_start_activities(log_ecPurchaseOrder, [\"Create Purchase Order Item\",\n",
    "                    \"Create Purchase Requisition Item\", \"SRM: Created\", \"Vendor creates invoice\"])\n",
    "    log_ecPurchaseOrder = pm4py.filter_end_activities(log_ecPurchaseOrder, [\"Clear Invoice\", \"Delete Purchase Order Item\"])\n",
    "    \n",
    "    # Framework order\n",
    "    log_frameworkOrder = pm4py.filter_start_activities(log_frameworkOrder, [\"Create Purchase Order Item\",\n",
    "                    \"Create Purchase Requisition Item\", \"Vendor creates invoice\"])\n",
    "    log_frameworkOrder = pm4py.filter_end_activities(log_ecPurchaseOrder, [\"Clear Invoice\", \"Delete Purchase Order Item\"])\n",
    "    \n",
    "    # Standard PO\n",
    "    log_standardPO = pm4py.filter_start_activities(log_standardPO, [\"Create Purchase Order Item\",\n",
    "                    \"Create Purchase Requisition Item\", \"Vendor creates invoice\"])\n",
    "    log_standardPO = pm4py.filter_end_activities(log_ecPurchaseOrder, [\"Clear Invoice\", \"Delete Purchase Order Item\"])\n",
    "    \n",
    "    return log_ecPurchaseOrder, log_frameworkOrder, log_standardPO\n",
    "\n",
    "def filter_out_infrequent_variants(log_ecPurchaseOrder, log_frameworkOrder, log_standardPO):\n",
    "    \n",
    "    # EC Purchase order\n",
    "    log_ecPurchaseOrder = pm4py.filter_variants_by_coverage_percentage(log_ecPurchaseOrder, 0.0002)\n",
    "    \n",
    "    # Framework order\n",
    "    log_frameworkOrder = pm4py.filter_variants_by_coverage_percentage(log_ecPurchaseOrder, 0.01)\n",
    "    \n",
    "    # Standard PO\n",
    "    log_standardPO = pm4py.filter_variants_by_coverage_percentage(log_ecPurchaseOrder, 0.0002)\n",
    "    \n",
    "    return log_ecPurchaseOrder, log_frameworkOrder, log_standardPO\n",
    "\n",
    "# ------ NOT ACTIVE ------\n",
    "#filter out variants, that only consist of events:\n",
    "#     \"Create Purchase Order Item\", \"Delete Purchase Order Item\"\n",
    "def filter_out_cpoi_dpoi(log):\n",
    "    return pm4py.filter_variants(log, [[\"Create Purchase Order Item\", \"Delete Purchase Order Item\"]], retain=False)\n",
    "\n",
    "#write event log to a xes file in the preprocessed directory\n",
    "def write_log_to_file(log, filename):\n",
    "    path = os.path.join(os.path.dirname(os.getcwd()), 'Preprocessed', filename)\n",
    "    pm4py.write_xes(log, path)"
   ]
  },
  {
   "cell_type": "code",
   "execution_count": 35,
   "id": "7edb1788",
   "metadata": {},
   "outputs": [
    {
     "data": {
      "application/vnd.jupyter.widget-view+json": {
       "model_id": "1531bc5ecccd4828ac776f8e8225d91e",
       "version_major": 2,
       "version_minor": 0
      },
      "text/plain": [
       "exporting log, completed traces ::   0%|          | 0/346 [00:00<?, ?it/s]"
      ]
     },
     "metadata": {},
     "output_type": "display_data"
    },
    {
     "data": {
      "application/vnd.jupyter.widget-view+json": {
       "model_id": "65ad7e507bc24a6d8ec3ca048ce474ef",
       "version_major": 2,
       "version_minor": 0
      },
      "text/plain": [
       "exporting log, completed traces ::   0%|          | 0/217 [00:00<?, ?it/s]"
      ]
     },
     "metadata": {},
     "output_type": "display_data"
    },
    {
     "data": {
      "application/vnd.jupyter.widget-view+json": {
       "model_id": "b27844fbce78487fa6f32b55d038f295",
       "version_major": 2,
       "version_minor": 0
      },
      "text/plain": [
       "exporting log, completed traces ::   0%|          | 0/346 [00:00<?, ?it/s]"
      ]
     },
     "metadata": {},
     "output_type": "display_data"
    }
   ],
   "source": [
    "# Preprocessing pipeline\n",
    "\n",
    "# 1. Filter on timeframe\n",
    "filtered_log = filter_timeframe(log)\n",
    "\n",
    "# 2. Group by documentType\n",
    "log_ecPurchaseOrder, log_frameworkOrder, log_standardPO = group_by_documentType(filtered_log)\n",
    "\n",
    "# 3. Remove incomplete cases\n",
    "log_ecPurchaseOrder, log_frameworkOrder, log_standardPO = remove_incomplete_cases(log_ecPurchaseOrder, log_frameworkOrder, log_standardPO)\n",
    "\n",
    "# 4. Filter out infrequent variants\n",
    "log_ecPurchaseOrder, log_frameworkOrder, log_standardPO = filter_out_infrequent_variants(log_ecPurchaseOrder, log_frameworkOrder, log_standardPO)\n",
    "\n",
    "# write filtered logs to files\n",
    "write_log_to_file(log_ecPurchaseOrder, 'EC Purchase order_preprocessed.xes')\n",
    "write_log_to_file(log_frameworkOrder, 'Framework order_preprocessed.xes')\n",
    "write_log_to_file(log_standardPO, 'Standard PO_preprocessed.xes')"
   ]
  }
 ],
 "metadata": {
  "kernelspec": {
   "display_name": "Python 3 (ipykernel)",
   "language": "python",
   "name": "python3"
  },
  "language_info": {
   "codemirror_mode": {
    "name": "ipython",
    "version": 3
   },
   "file_extension": ".py",
   "mimetype": "text/x-python",
   "name": "python",
   "nbconvert_exporter": "python",
   "pygments_lexer": "ipython3",
   "version": "3.9.7"
  }
 },
 "nbformat": 4,
 "nbformat_minor": 5
}
