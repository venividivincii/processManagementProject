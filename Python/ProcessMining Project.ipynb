{
 "cells": [
  {
   "cell_type": "code",
   "execution_count": 40,
   "id": "9a2c8b91",
   "metadata": {},
   "outputs": [
    {
     "data": {
      "application/vnd.jupyter.widget-view+json": {
       "model_id": "a95c209b3ab141449ad0a1fd038cf084",
       "version_major": 2,
       "version_minor": 0
      },
      "text/plain": [
       "parsing log, completed traces ::   0%|          | 0/346 [00:00<?, ?it/s]"
      ]
     },
     "metadata": {},
     "output_type": "display_data"
    },
    {
     "data": {
      "application/vnd.jupyter.widget-view+json": {
       "model_id": "24b0cb5ace6a49b9b1093e7effc89416",
       "version_major": 2,
       "version_minor": 0
      },
      "text/plain": [
       "parsing log, completed traces ::   0%|          | 0/264 [00:00<?, ?it/s]"
      ]
     },
     "metadata": {},
     "output_type": "display_data"
    },
    {
     "data": {
      "application/vnd.jupyter.widget-view+json": {
       "model_id": "63ba2d37065b4f8e85a96d03dcb18720",
       "version_major": 2,
       "version_minor": 0
      },
      "text/plain": [
       "parsing log, completed traces ::   0%|          | 0/8918 [00:00<?, ?it/s]"
      ]
     },
     "metadata": {},
     "output_type": "display_data"
    },
    {
     "data": {
      "application/vnd.jupyter.widget-view+json": {
       "model_id": "6831faa70ecc47f39452a4fe9f701443",
       "version_major": 2,
       "version_minor": 0
      },
      "text/plain": [
       "parsing log, completed traces ::   0%|          | 0/235 [00:00<?, ?it/s]"
      ]
     },
     "metadata": {},
     "output_type": "display_data"
    },
    {
     "data": {
      "application/vnd.jupyter.widget-view+json": {
       "model_id": "15d1cd7a211e44c0995e80652b5dad87",
       "version_major": 2,
       "version_minor": 0
      },
      "text/plain": [
       "parsing log, completed traces ::   0%|          | 0/116 [00:00<?, ?it/s]"
      ]
     },
     "metadata": {},
     "output_type": "display_data"
    },
    {
     "data": {
      "application/vnd.jupyter.widget-view+json": {
       "model_id": "3b7f397ceea64efd8fe25e930e973e8d",
       "version_major": 2,
       "version_minor": 0
      },
      "text/plain": [
       "parsing log, completed traces ::   0%|          | 0/7687 [00:00<?, ?it/s]"
      ]
     },
     "metadata": {},
     "output_type": "display_data"
    }
   ],
   "source": [
    "import pm4py, os\n",
    "\n",
    "#import event logs\n",
    "if __name__ == \"__main__\":\n",
    "    log_ec_purchase_order = pm4py.read_xes(os.path.join(preprocessed_dir, 'EC Purchase order.xes'))\n",
    "    log_framework_purchase_order = pm4py.read_xes(os.path.join(preprocessed_dir, 'Framework order.xes'))\n",
    "    log_standard_po = pm4py.read_xes(os.path.join(preprocessed_dir, 'Standard PO.xes'))\n",
    "    \n",
    "    #infrequent variants filtered out\n",
    "    log_ec_purchase_order_infVarOut = pm4py.read_xes(os.path.join(preprocessed_dir, 'with filtering out infrequent Variants\\\\EC Purchase order.xes'))\n",
    "    log_framework_purchase_order_infVarOut = pm4py.read_xes(os.path.join(preprocessed_dir, 'with filtering out infrequent Variants\\\\Framework order.xes'))\n",
    "    log_standard_po_infVarOut = pm4py.read_xes(os.path.join(preprocessed_dir, 'with filtering out infrequent Variants\\\\Standard PO.xes'))"
   ]
  },
  {
   "cell_type": "code",
   "execution_count": 41,
   "id": "3e7e72f8",
   "metadata": {
    "scrolled": true
   },
   "outputs": [],
   "source": [
    "#filter out variants, that only consist of events:\n",
    "#     \"Create Purchase Order Item\", \"Delete Purchase Order Item\"\n",
    "def filter_out_cpoi_dpoi(log):\n",
    "    return pm4py.filter_variants(log, [[\"Create Purchase Order Item\", \"Delete Purchase Order Item\"]], retain=False)\n",
    "\n",
    "#write event log to a xes file in the preprocessed directory\n",
    "def write_log_to_file(log, filename):\n",
    "    path = os.path.join(os.path.dirname(os.getcwd()), 'Preprocessed', filename)\n",
    "    pm4py.write_xes(log, path)"
   ]
  },
  {
   "cell_type": "code",
   "execution_count": 42,
   "id": "7edb1788",
   "metadata": {},
   "outputs": [
    {
     "data": {
      "application/vnd.jupyter.widget-view+json": {
       "model_id": "fe97e07872ca414386e661d088c498a5",
       "version_major": 2,
       "version_minor": 0
      },
      "text/plain": [
       "exporting log, completed traces ::   0%|          | 0/346 [00:00<?, ?it/s]"
      ]
     },
     "metadata": {},
     "output_type": "display_data"
    },
    {
     "data": {
      "application/vnd.jupyter.widget-view+json": {
       "model_id": "0a74aaee85044b94a413ca58378d4747",
       "version_major": 2,
       "version_minor": 0
      },
      "text/plain": [
       "exporting log, completed traces ::   0%|          | 0/232 [00:00<?, ?it/s]"
      ]
     },
     "metadata": {},
     "output_type": "display_data"
    },
    {
     "data": {
      "application/vnd.jupyter.widget-view+json": {
       "model_id": "f89decb40ff14b869c03f5a0f07bce83",
       "version_major": 2,
       "version_minor": 0
      },
      "text/plain": [
       "exporting log, completed traces ::   0%|          | 0/8740 [00:00<?, ?it/s]"
      ]
     },
     "metadata": {},
     "output_type": "display_data"
    }
   ],
   "source": [
    "#without infrequent Variants filtered out\n",
    "\n",
    "# filter out variants with only (\"Create Purchase Order Item\", \"Delete Purchase Order Item\")\n",
    "log_ec_purchase_order = filter_out_cpoi_dpoi(log_ec_purchase_order)\n",
    "log_framework_purchase_order = filter_out_cpoi_dpoi(log_framework_purchase_order)\n",
    "log_standard_po = filter_out_cpoi_dpoi(log_standard_po)\n",
    "\n",
    "# write filtered logs to files\n",
    "write_log_to_file(log_ec_purchase_order, 'EC Purchase order_preprocessed.xes')\n",
    "write_log_to_file(log_framework_purchase_order, 'Framework order_preprocessed.xes')\n",
    "write_log_to_file(log_standard_po, 'Standard PO_preprocessed.xes')"
   ]
  },
  {
   "cell_type": "code",
   "execution_count": 43,
   "id": "2d3447ea",
   "metadata": {},
   "outputs": [
    {
     "data": {
      "application/vnd.jupyter.widget-view+json": {
       "model_id": "beea11967fd3431d85f907691c6948c6",
       "version_major": 2,
       "version_minor": 0
      },
      "text/plain": [
       "exporting log, completed traces ::   0%|          | 0/235 [00:00<?, ?it/s]"
      ]
     },
     "metadata": {},
     "output_type": "display_data"
    },
    {
     "data": {
      "application/vnd.jupyter.widget-view+json": {
       "model_id": "9d66b711bddd47c28fcc26f1bd8e39a4",
       "version_major": 2,
       "version_minor": 0
      },
      "text/plain": [
       "exporting log, completed traces ::   0%|          | 0/84 [00:00<?, ?it/s]"
      ]
     },
     "metadata": {},
     "output_type": "display_data"
    },
    {
     "data": {
      "application/vnd.jupyter.widget-view+json": {
       "model_id": "787b9b5e412243fb8af23f8b9add951d",
       "version_major": 2,
       "version_minor": 0
      },
      "text/plain": [
       "exporting log, completed traces ::   0%|          | 0/7509 [00:00<?, ?it/s]"
      ]
     },
     "metadata": {},
     "output_type": "display_data"
    }
   ],
   "source": [
    "#with infrequent Variants filtered out\n",
    "\n",
    "# filter out variants with only (\"Create Purchase Order Item\", \"Delete Purchase Order Item\")\n",
    "log_ec_purchase_order_infVarOut = filter_out_cpoi_dpoi(log_ec_purchase_order_infVarOut)\n",
    "log_framework_purchase_order_infVarOut = filter_out_cpoi_dpoi(log_framework_purchase_order_infVarOut)\n",
    "log_standard_po_infVarOut = filter_out_cpoi_dpoi(log_standard_po_infVarOut)\n",
    "\n",
    "# write filtered logs to files\n",
    "write_log_to_file(log_ec_purchase_order_infVarOut, 'with filtering out infrequent Variants\\\\EC Purchase order_preprocessed.xes')\n",
    "write_log_to_file(log_framework_purchase_order_infVarOut, 'with filtering out infrequent Variants\\\\Framework order_preprocessed.xes')\n",
    "write_log_to_file(log_standard_po_infVarOut, 'with filtering out infrequent Variants\\\\Standard PO_preprocessed.xes')"
   ]
  }
 ],
 "metadata": {
  "kernelspec": {
   "display_name": "Python 3 (ipykernel)",
   "language": "python",
   "name": "python3"
  },
  "language_info": {
   "codemirror_mode": {
    "name": "ipython",
    "version": 3
   },
   "file_extension": ".py",
   "mimetype": "text/x-python",
   "name": "python",
   "nbconvert_exporter": "python",
   "pygments_lexer": "ipython3",
   "version": "3.9.7"
  }
 },
 "nbformat": 4,
 "nbformat_minor": 5
}
