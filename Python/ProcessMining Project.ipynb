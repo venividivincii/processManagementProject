{
 "cells": [
  {
   "cell_type": "code",
   "execution_count": 1,
   "id": "9a2c8b91",
   "metadata": {},
   "outputs": [
    {
     "data": {
      "application/vnd.jupyter.widget-view+json": {
       "model_id": "8e7bafcb9ff143f08dbbf008963b1bb7",
       "version_major": 2,
       "version_minor": 0
      },
      "text/plain": [
       "parsing log, completed traces ::   0%|          | 0/15182 [00:00<?, ?it/s]"
      ]
     },
     "metadata": {},
     "output_type": "display_data"
    }
   ],
   "source": [
    "import pm4py, os\n",
    "\n",
    "#import event logs\n",
    "if __name__ == \"__main__\":\n",
    "    log = pm4py.read_xes('BPI_Challenge_2019-3-w-after.xes')"
   ]
  },
  {
   "cell_type": "markdown",
   "id": "801626cc",
   "metadata": {},
   "source": [
    "# Preprocessing"
   ]
  },
  {
   "cell_type": "markdown",
   "id": "5a17fe59",
   "metadata": {},
   "source": [
    "## Filter Definition"
   ]
  },
  {
   "cell_type": "markdown",
   "id": "9fc842ed",
   "metadata": {},
   "source": [
    "Used filters:\n",
    "\n",
    "timeFrame filtering:\n",
    "- filter out events not in [2018-01-0 ; 2019-01-28]\n",
    "- implemented in filter_timeframe()\n",
    "\n",
    "seperation of documentTypes:\n",
    "- seperate traces into 3 event logs, one for each documentType\n",
    "- implemented in group_by_documentType()\n",
    "\n",
    "removal of incomplete cases:\n",
    "- removes traces, that have not one of the specified start and end-activities\n",
    "- EC Purchase order: \n",
    "    - Start Events: \"Create Purchase Order Item\", \"Create Purchase Requisition Item\", \"SRM: Created\", \"Vendor creates invoice\"\n",
    "    - End Events: \"Clear Invoice\", \"Delete Purchase Order Item\"\n",
    "- Framework order: \n",
    "    - Start Events: \"Create Purchase Order Item\", \"Create Purchase Requisition Item\", \"Vendor creates invoice\"\n",
    "    - End Events: \"Clear Invoice\", \"Delete Purchase Order Item\"\n",
    "- Standard PO: \n",
    "    - Start Events: \"Create Purchase Order Item\", \"Create Purchase Requisition Item\", \"Vendor creates invoice\"\n",
    "    - End Events: \"Clear Invoice\", \"Delete Purchase Order Item\"\n",
    "\n",
    "filtering out infrequent variants:\n",
    "- remove variants, that only consist of one single case\n",
    "- implemented in filter_out_infrequent_variants()"
   ]
  },
  {
   "cell_type": "code",
   "execution_count": 5,
   "id": "3e7e72f8",
   "metadata": {
    "scrolled": true
   },
   "outputs": [],
   "source": [
    "# exclude all traces that are not between 2018-01-0 and 2019-01-28\n",
    "def filter_timeframe(log):\n",
    "    return pm4py.filter_time_range(log, \"2018-01-01 00:00:00\", \"2019-01-28 23:59:59\", mode='traces_contained')\n",
    "\n",
    "# group the eventlog by the values of the documentType attribute\n",
    "def group_by_documentType(log):\n",
    "    log_ecPurchaseOrder = pm4py.filter_trace_attribute_values(log, \"(case) Document Type\", [\"EC Purchase order\"], retain = True)\n",
    "    log_frameworkOrder = pm4py.filter_trace_attribute_values(log, \"(case) Document Type\", [\"Framework order\"], retain = True)\n",
    "    log_standardPO = pm4py.filter_trace_attribute_values(log, \"(case) Document Type\", [\"Standard PO\"], retain = True)\n",
    "    return log_ecPurchaseOrder, log_frameworkOrder, log_standardPO\n",
    "\n",
    "\n",
    "# removes traces, that have not one of the specified start and end-activities\n",
    "def remove_incomplete_cases(log_ecPurchaseOrder, log_frameworkOrder, log_standardPO):\n",
    "    \n",
    "    # EC Purchase order\n",
    "    log_ecPurchaseOrder = pm4py.filter_start_activities(log_ecPurchaseOrder, [\"Create Purchase Order Item\",\n",
    "                    \"Create Purchase Requisition Item\", \"SRM: Created\", \"Vendor creates invoice\"])\n",
    "    log_ecPurchaseOrder = pm4py.filter_end_activities(log_ecPurchaseOrder, [\"Clear Invoice\", \"Delete Purchase Order Item\"])\n",
    "    \n",
    "    # Framework order\n",
    "    log_frameworkOrder = pm4py.filter_start_activities(log_frameworkOrder, [\"Create Purchase Order Item\",\n",
    "                    \"Create Purchase Requisition Item\", \"Vendor creates invoice\"])\n",
    "    log_frameworkOrder = pm4py.filter_end_activities(log_frameworkOrder, [\"Clear Invoice\", \"Delete Purchase Order Item\"])\n",
    "    \n",
    "    # Standard PO\n",
    "    log_standardPO = pm4py.filter_start_activities(log_standardPO, [\"Create Purchase Order Item\",\n",
    "                    \"Create Purchase Requisition Item\", \"Vendor creates invoice\"])\n",
    "    log_standardPO = pm4py.filter_end_activities(log_standardPO, [\"Clear Invoice\", \"Delete Purchase Order Item\"])\n",
    "    \n",
    "    return log_ecPurchaseOrder, log_frameworkOrder, log_standardPO\n",
    "\n",
    "def filter_out_infrequent_variants(log_ecPurchaseOrder, log_frameworkOrder, log_standardPO):\n",
    "    \n",
    "    # EC Purchase order\n",
    "    log_ecPurchaseOrder = pm4py.filter_variants_by_coverage_percentage(log_ecPurchaseOrder, 0.0002)\n",
    "    \n",
    "    # Framework order\n",
    "    log_frameworkOrder = pm4py.filter_variants_by_coverage_percentage(log_frameworkOrder, 0.01)\n",
    "    \n",
    "    # Standard PO\n",
    "    log_standardPO = pm4py.filter_variants_by_coverage_percentage(log_standardPO, 0.0002)\n",
    "    \n",
    "    return log_ecPurchaseOrder, log_frameworkOrder, log_standardPO\n",
    "\n",
    "# ------ NOT ACTIVE ------\n",
    "#filter out variants, that only consist of events:\n",
    "#     \"Create Purchase Order Item\", \"Delete Purchase Order Item\"\n",
    "def filter_out_cpoi_dpoi(log):\n",
    "    return pm4py.filter_variants(log, [[\"SRM: Complete\", \"SRM: Awaiting Approval\", \"SRM: Document Completed\", \"SRM: In Transfer to Execution\", \"SRM: Ordered\", \"SRM: Change was Transmitted\"]], retain=False)\n",
    "\n",
    "# write event log to a xes file in the preprocessed directory\n",
    "def write_log_to_file(log, filename):\n",
    "    path = os.path.join(os.path.dirname(os.getcwd()), 'Preprocessed', filename)\n",
    "    pm4py.write_xes(log, path)\n",
    "    \n",
    "# export petri net as png\n",
    "def write_pn_to_file(petri_net, initial_marking, final_marking, filename):\n",
    "    path = os.path.join(os.path.dirname(os.getcwd()), \"Process Discovery\\\\Inductive Miner\", filename)\n",
    "    pm4py.vis.save_vis_petri_net(petri_net=petri_net, initial_marking=initial_marking,\n",
    "                             final_marking=final_marking, file_path=path)\n",
    "    \n",
    "#filter\n",
    "def filter_srm_process(log):\n",
    "    srm_events = ['SRM: Created', 'SRM: Incomplete','SRM: Held', 'SRM: Complete', 'SRM: Awaiting Approval',\n",
    "                  'SRM: Document Completed', 'SRM: In Transfer to Execution System', 'SRM: Ordered',\n",
    "                  ' SRM: Deleted', 'SRM: Change was Transmitted']\n",
    "    return pm4py.filtering.filter_event_attribute_values(log=log, attribute_key='concept:name', values=srm_events,\n",
    "                                                        level='event', retain=True)"
   ]
  },
  {
   "cell_type": "markdown",
   "id": "010842c4",
   "metadata": {},
   "source": [
    "## Preprocessing Pipeline"
   ]
  },
  {
   "cell_type": "markdown",
   "id": "83324f42",
   "metadata": {},
   "source": [
    "1. timeFrame filtering\n",
    "2. groupBy documentType\n",
    "3. remove incomplete cases\n",
    "4. filter out infrequent variants"
   ]
  },
  {
   "cell_type": "code",
   "execution_count": 6,
   "id": "7edb1788",
   "metadata": {},
   "outputs": [
    {
     "data": {
      "application/vnd.jupyter.widget-view+json": {
       "model_id": "108d0ea62ff746d2bf6c1abc19d05de6",
       "version_major": 2,
       "version_minor": 0
      },
      "text/plain": [
       "exporting log, completed traces ::   0%|          | 0/346 [00:00<?, ?it/s]"
      ]
     },
     "metadata": {},
     "output_type": "display_data"
    },
    {
     "data": {
      "application/vnd.jupyter.widget-view+json": {
       "model_id": "7531dd957cbc4bbeb6a208a38b8f3cae",
       "version_major": 2,
       "version_minor": 0
      },
      "text/plain": [
       "exporting log, completed traces ::   0%|          | 0/99 [00:00<?, ?it/s]"
      ]
     },
     "metadata": {},
     "output_type": "display_data"
    },
    {
     "data": {
      "application/vnd.jupyter.widget-view+json": {
       "model_id": "d3f03220203f492389e7ad3fbb09b2e9",
       "version_major": 2,
       "version_minor": 0
      },
      "text/plain": [
       "exporting log, completed traces ::   0%|          | 0/7683 [00:00<?, ?it/s]"
      ]
     },
     "metadata": {},
     "output_type": "display_data"
    }
   ],
   "source": [
    "# 1. Filter on timeframe\n",
    "filtered_log = filter_timeframe(log)\n",
    "\n",
    "# 2. Group by documentType\n",
    "log_ecPurchaseOrder, log_frameworkOrder, log_standardPO = group_by_documentType(filtered_log)\n",
    "\n",
    "# 3. Remove incomplete cases\n",
    "log_ecPurchaseOrder, log_frameworkOrder, log_standardPO = remove_incomplete_cases(log_ecPurchaseOrder, log_frameworkOrder, log_standardPO)\n",
    "\n",
    "# 4. Filter out infrequent variants\n",
    "log_ecPurchaseOrder, log_frameworkOrder, log_standardPO = filter_out_infrequent_variants(log_ecPurchaseOrder, log_frameworkOrder, log_standardPO)\n",
    "\n",
    "# write filtered logs to files\n",
    "write_log_to_file(log_ecPurchaseOrder, 'EC Purchase order_preprocessed.xes')\n",
    "write_log_to_file(log_frameworkOrder, 'Framework order_preprocessed.xes')\n",
    "write_log_to_file(log_standardPO, 'Standard PO_preprocessed.xes')"
   ]
  },
  {
   "cell_type": "markdown",
   "id": "c916b0bb",
   "metadata": {},
   "source": [
    "# Process Discovery"
   ]
  },
  {
   "cell_type": "code",
   "execution_count": null,
   "id": "ffd042c7",
   "metadata": {},
   "outputs": [],
   "source": [
    "### SRM Process ###\n",
    "\n",
    "def mine_srm_process():\n",
    "    \n",
    "    # filter for srm process\n",
    "    log_srm = filter_srm_process(log)\n",
    "\n",
    "    # write log_srm to xes file\n",
    "    write_log_to_file(log_srm, 'SRM-Process.xes')\n",
    "\n",
    "# mine petrinet with inductive miner\n",
    "net_srm, initial_marking_srm, final_marking_srm = pm4py.discovery.discover_petri_net_inductive(log_srm, noise_threshold = 0.0)\n",
    "\n",
    "#view petrinet\n",
    "pm4py.view_petri_net(net_srm, initial_marking_srm, final_marking_srm)\n",
    "print(\"SRM Process\\n\\n\\n\\n\")\n",
    "\n",
    "# export petrinet to png file\n",
    "write_pn_to_file(petri_net=net_srm, initial_marking=initial_marking_srm,\n",
    "                 final_marking=final_marking_srm, filename=\"petriNet_SRM-Process.png\")"
   ]
  },
  {
   "cell_type": "code",
   "execution_count": null,
   "id": "7dcca19b",
   "metadata": {},
   "outputs": [],
   "source": [
    "###### Inductive Miner (infrequent) ######\n",
    "\n",
    "\n",
    "### EC Purchase order ###\n",
    "\n",
    "# mine petrinet with inductive miner\n",
    "net_ecPurchaseOrder, initial_marking_ecPurchaseOrder, final_marking_ecPurchaseOrder = pm4py.discovery.discover_petri_net_inductive(log_ecPurchaseOrder, noise_threshold = 0.0)\n",
    "\n",
    "#view petrinet\n",
    "pm4py.view_petri_net(net_ecPurchaseOrder, initial_marking_ecPurchaseOrder, final_marking_ecPurchaseOrder)\n",
    "print(\"EC Purchase order\\n\\n\\n\\n\")\n",
    "\n",
    "# export petrinet to png file\n",
    "write_pn_to_file(petri_net=net_ecPurchaseOrder, initial_marking=initial_marking_ecPurchaseOrder,\n",
    "                 final_marking=final_marking_ecPurchaseOrder, filename=\"petriNet_ecPurchaseOrder.png\")\n",
    "\n",
    "\n",
    "\n",
    "### Framework order ###\n",
    "\n",
    "# mine petrinet with inductive miner\n",
    "net_frameworkOrder, initial_marking_frameworkOrder, final_marking_frameworkOrder = pm4py.discovery.discover_petri_net_inductive(log_frameworkOrder, noise_threshold = 0.2)\n",
    "\n",
    "#view petrinet\n",
    "pm4py.view_petri_net(net_ecPurchaseOrder, initial_marking_frameworkOrder, final_marking_frameworkOrder)\n",
    "print(\"Framework order\\n\\n\\n\\n\")\n",
    "\n",
    "# export petrinet to png file\n",
    "write_pn_to_file(petri_net=net_frameworkOrder, initial_marking=initial_marking_frameworkOrder,\n",
    "                 final_marking=final_marking_frameworkOrder, filename=\"petriNet_frameworkOrder.png\")\n",
    "\n",
    "\n",
    "\n",
    "### Standard PO ###\n",
    "\n",
    "# mine petrinet with inductive miner\n",
    "net_standardPO, initial_marking_standardPO, final_marking_standardPO = pm4py.discovery.discover_petri_net_inductive(log_standardPO, noise_threshold = 0.2)\n",
    "\n",
    "#view petrinet\n",
    "pm4py.view_petri_net(net_standardPO, initial_marking_standardPO, final_marking_standardPO)\n",
    "print(\"Standard PO\\n\\n\\n\\n\")\n",
    "\n",
    "# export petrinet to png file\n",
    "write_pn_to_file(petri_net=net_standardPO, initial_marking=initial_marking_standardPO,\n",
    "                 final_marking=final_marking_standardPO, filename=\"petriNet_standardPO.png\")"
   ]
  }
 ],
 "metadata": {
  "kernelspec": {
   "display_name": "Python 3 (ipykernel)",
   "language": "python",
   "name": "python3"
  },
  "language_info": {
   "codemirror_mode": {
    "name": "ipython",
    "version": 3
   },
   "file_extension": ".py",
   "mimetype": "text/x-python",
   "name": "python",
   "nbconvert_exporter": "python",
   "pygments_lexer": "ipython3",
   "version": "3.9.7"
  }
 },
 "nbformat": 4,
 "nbformat_minor": 5
}
