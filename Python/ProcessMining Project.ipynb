{
 "cells": [
  {
   "cell_type": "code",
   "execution_count": 1,
   "id": "9a2c8b91",
   "metadata": {},
   "outputs": [
    {
     "data": {
      "application/vnd.jupyter.widget-view+json": {
       "model_id": "2c56ba06eb8e4677a4254c3fdcd09e87",
       "version_major": 2,
       "version_minor": 0
      },
      "text/plain": [
       "parsing log, completed traces ::   0%|          | 0/15182 [00:00<?, ?it/s]"
      ]
     },
     "metadata": {},
     "output_type": "display_data"
    }
   ],
   "source": [
    "import pm4py, os\n",
    "\n",
    "#import event logs\n",
    "if __name__ == \"__main__\":\n",
    "    log = pm4py.read_xes('BPI_Challenge_2019-3-w-after.xes')"
   ]
  },
  {
   "cell_type": "markdown",
   "id": "801626cc",
   "metadata": {},
   "source": [
    "# Preprocessing"
   ]
  },
  {
   "cell_type": "markdown",
   "id": "5a17fe59",
   "metadata": {},
   "source": [
    "## Filter Definition"
   ]
  },
  {
   "cell_type": "markdown",
   "id": "c8da342d",
   "metadata": {},
   "source": [
    "Used filters:\n",
    "\n",
    "timeFrame filtering:\n",
    "- filter out events not in [2018-01-0 ; 2019-01-28]\n",
    "- implemented in filter_timeframe()\n",
    "\n",
    "seperation of documentTypes:\n",
    "- seperate traces into 3 event logs, one for each documentType\n",
    "- implemented in group_by_documentType()\n",
    "\n",
    "removal of incomplete cases:\n",
    "- removes traces, that have not one of the specified start and end-activities\n",
    "- EC Purchase order: \n",
    "    - Start Events: \"Create Purchase Order Item\", \"Create Purchase Requisition Item\", \"SRM: Created\", \"Vendor creates invoice\"\n",
    "    - End Events: \"Clear Invoice\", \"Delete Purchase Order Item\"\n",
    "- Framework order: \n",
    "    - Start Events: \"Create Purchase Order Item\", \"Create Purchase Requisition Item\", \"Vendor creates invoice\"\n",
    "    - End Events: \"Clear Invoice\", \"Delete Purchase Order Item\"\n",
    "- Standard PO: \n",
    "    - Start Events: \"Create Purchase Order Item\", \"Create Purchase Requisition Item\", \"Vendor creates invoice\"\n",
    "    - End Events: \"Clear Invoice\", \"Delete Purchase Order Item\"\n",
    "\n",
    "filtering out infrequent variants:\n",
    "- remove variants, that only consist of one single case\n",
    "- implemented in filter_out_infrequent_variants()"
   ]
  },
  {
   "cell_type": "code",
   "execution_count": 2,
   "id": "3e7e72f8",
   "metadata": {
    "scrolled": true
   },
   "outputs": [],
   "source": [
    "# exclude all traces that are not between 2018-01-0 and 2019-01-28\n",
    "def filter_timeframe(log):\n",
    "    return pm4py.filter_time_range(log, \"2018-01-01 00:00:00\", \"2019-01-28 23:59:59\", mode='traces_contained')\n",
    "\n",
    "# group the eventlog by the values of the documentType attribute\n",
    "def group_by_documentType(log):\n",
    "    log_ecPurchaseOrder = pm4py.filter_trace_attribute_values(log, \"(case) Document Type\", [\"EC Purchase order\"], retain = True)\n",
    "    log_frameworkOrder = pm4py.filter_trace_attribute_values(log, \"(case) Document Type\", [\"Framework order\"], retain = True)\n",
    "    log_standardPO = pm4py.filter_trace_attribute_values(log, \"(case) Document Type\", [\"Standard PO\"], retain = True)\n",
    "    return log_ecPurchaseOrder, log_frameworkOrder, log_standardPO\n",
    "\n",
    "\n",
    "# removes traces, that have not one of the specified start and end-activities\n",
    "def remove_incomplete_cases(log_ecPurchaseOrder, log_frameworkOrder, log_standardPO):\n",
    "    \n",
    "    # EC Purchase order\n",
    "    log_ecPurchaseOrder = pm4py.filter_start_activities(log_ecPurchaseOrder, [\"Create Purchase Order Item\",\n",
    "                    \"Create Purchase Requisition Item\", \"SRM: Created\", \"Vendor creates invoice\"])\n",
    "    log_ecPurchaseOrder = pm4py.filter_end_activities(log_ecPurchaseOrder, [\"Clear Invoice\", \"Delete Purchase Order Item\"])\n",
    "    \n",
    "    # Framework order\n",
    "    log_frameworkOrder = pm4py.filter_start_activities(log_frameworkOrder, [\"Create Purchase Order Item\",\n",
    "                    \"Create Purchase Requisition Item\", \"Vendor creates invoice\"])\n",
    "    log_frameworkOrder = pm4py.filter_end_activities(log_frameworkOrder, [\"Clear Invoice\", \"Delete Purchase Order Item\"])\n",
    "    \n",
    "    # Standard PO\n",
    "    log_standardPO = pm4py.filter_start_activities(log_standardPO, [\"Create Purchase Order Item\",\n",
    "                    \"Create Purchase Requisition Item\", \"Vendor creates invoice\"])\n",
    "    log_standardPO = pm4py.filter_end_activities(log_standardPO, [\"Clear Invoice\", \"Delete Purchase Order Item\"])\n",
    "    \n",
    "    return log_ecPurchaseOrder, log_frameworkOrder, log_standardPO\n",
    "\n",
    "def filter_out_infrequent_variants(log_ecPurchaseOrder, log_frameworkOrder, log_standardPO):\n",
    "    \n",
    "    # EC Purchase order\n",
    "    log_ecPurchaseOrder = pm4py.filter_variants_by_coverage_percentage(log_ecPurchaseOrder, 0.0002)\n",
    "    \n",
    "    # Framework order\n",
    "    log_frameworkOrder = pm4py.filter_variants_by_coverage_percentage(log_frameworkOrder, 0.01)\n",
    "    \n",
    "    # Standard PO\n",
    "    log_standardPO = pm4py.filter_variants_by_coverage_percentage(log_standardPO, 0.0002)\n",
    "    \n",
    "    return log_ecPurchaseOrder, log_frameworkOrder, log_standardPO\n",
    "\n",
    "#filter out variants, that only consist of events:\n",
    "#     \"Create Purchase Order Item\", \"Delete Purchase Order Item\"\n",
    "def filter_out_cpoi_dpoi(log):\n",
    "    return pm4py.filter_variants(log, [[\"Create Purchase Order Item\", \"Delete Purchase Order Item\"]], retain=False)\n",
    "\n",
    "# write event log to a xes file in the preprocessed directory\n",
    "def write_log_to_file(log, filename):\n",
    "    path = os.path.join(os.path.dirname(os.getcwd()), filename)\n",
    "    pm4py.write_xes(log, path)\n",
    "    \n",
    "# export petri net as png\n",
    "def write_pn_to_file(petri_net, initial_marking, final_marking, filename):\n",
    "    path = os.path.join(os.path.dirname(os.getcwd()), \"Process Discovery\\\\Inductive Miner\", filename)\n",
    "    pm4py.vis.save_vis_petri_net(petri_net=petri_net, initial_marking=initial_marking,\n",
    "                             final_marking=final_marking, file_path=path)\n",
    "    \n",
    "# filter for SRM process\n",
    "def filter_srm_process(log):\n",
    "    srm_events = ['SRM: Created', 'SRM: Incomplete','SRM: Held', 'SRM: Complete', 'SRM: Awaiting Approval',\n",
    "                  'SRM: Document Completed', 'SRM: In Transfer to Execution System', 'SRM: Ordered',\n",
    "                  ' SRM: Deleted', 'SRM: Change was Transmitted']\n",
    "    return pm4py.filtering.filter_event_attribute_values(log=log, attribute_key='concept:name', values=srm_events,\n",
    "                                                        level='event', retain=True)"
   ]
  },
  {
   "cell_type": "markdown",
   "id": "010842c4",
   "metadata": {},
   "source": [
    "## Preprocessing Pipeline"
   ]
  },
  {
   "cell_type": "markdown",
   "id": "070f4fe1",
   "metadata": {},
   "source": [
    "Process Discovery\n",
    "1. timeFrame filtering\n",
    "2. groupBy documentType\n",
    "3. remove incomplete cases\n",
    "4. filter out infrequent variants\n",
    "5. Split event-logs into compliant / incompliant cases\n",
    "\n",
    "Compliance: 3-way Matching:\n",
    "1. timeFrame filtering\n",
    "2. groupBy documentType\n",
    "3. remove incomplete cases\n",
    "4. Filter out variants: [\"Create Purchase Order Item\", \"Delete Purchase Order Item\"]"
   ]
  },
  {
   "cell_type": "code",
   "execution_count": 3,
   "id": "7edb1788",
   "metadata": {},
   "outputs": [],
   "source": [
    "### General Preprocessing ###\n",
    "\n",
    "# 1. Filter on timeframe\n",
    "filtered_log = filter_timeframe(log)\n",
    "\n",
    "# 2. Group by documentType\n",
    "log_ecPurchaseOrder, log_frameworkOrder, log_standardPO = group_by_documentType(filtered_log)\n",
    "\n",
    "# 3. Remove incomplete cases\n",
    "log_ecPurchaseOrder, log_frameworkOrder, log_standardPO = remove_incomplete_cases(log_ecPurchaseOrder, log_frameworkOrder, log_standardPO)"
   ]
  },
  {
   "cell_type": "markdown",
   "id": "9d496bf6",
   "metadata": {},
   "source": [
    "## Preprocessing for Compliance-Checking"
   ]
  },
  {
   "cell_type": "markdown",
   "id": "426f250d",
   "metadata": {},
   "source": [
    "abbreviations: \"cumulative Net worth\" = \"cNw\"\n",
    "### Compliance Rules:\n",
    "- First good Receipt before first Invoice Receipt\n",
    "- Last Invoice Receipt after last good Receipt\n",
    "- sum(Create Invoice Receipt. cNw) - sum(Delete Invoice Receipt.cNw) = sum(Create Good Receipt.cNw) - sum(Delete Goods Receipt.cNw) \n",
    "--> deviation is okay (5%)"
   ]
  },
  {
   "cell_type": "code",
   "execution_count": 4,
   "id": "9ef51048",
   "metadata": {},
   "outputs": [
    {
     "data": {
      "application/vnd.jupyter.widget-view+json": {
       "model_id": "349b0b0bab554783aba52a300227def7",
       "version_major": 2,
       "version_minor": 0
      },
      "text/plain": [
       "exporting log, completed traces ::   0%|          | 0/346 [00:00<?, ?it/s]"
      ]
     },
     "metadata": {},
     "output_type": "display_data"
    },
    {
     "data": {
      "application/vnd.jupyter.widget-view+json": {
       "model_id": "e61972685f644e05b62405aa32b7144b",
       "version_major": 2,
       "version_minor": 0
      },
      "text/plain": [
       "exporting log, completed traces ::   0%|          | 0/232 [00:00<?, ?it/s]"
      ]
     },
     "metadata": {},
     "output_type": "display_data"
    },
    {
     "data": {
      "application/vnd.jupyter.widget-view+json": {
       "model_id": "dbffb0c8732441e8ac94a2a085f7b752",
       "version_major": 2,
       "version_minor": 0
      },
      "text/plain": [
       "exporting log, completed traces ::   0%|          | 0/8740 [00:00<?, ?it/s]"
      ]
     },
     "metadata": {},
     "output_type": "display_data"
    }
   ],
   "source": [
    "# 4. filter out variants: [\"Create Purchase Order Item\", \"Delete Purchase Order Item\"]\n",
    "log_ecPurchaseOrder_3wayMatch = filter_out_cpoi_dpoi(log_ecPurchaseOrder)\n",
    "log_frameworkOrder_3wayMatch = filter_out_cpoi_dpoi(log_frameworkOrder)\n",
    "log_standardPO_3wayMatch = filter_out_cpoi_dpoi(log_standardPO)\n",
    "\n",
    "# write filtered logs to files for 3-way Matching\n",
    "write_log_to_file(log_ecPurchaseOrder_3wayMatch, 'Preprocessed\\\\EC Purchase order_3wayMatching.xes')\n",
    "write_log_to_file(log_frameworkOrder_3wayMatch, 'Preprocessed\\\\Framework order_3wayMatching.xes')\n",
    "write_log_to_file(log_standardPO_3wayMatch, 'Preprocessed\\\\Standard PO_3wayMatching.xes')"
   ]
  },
  {
   "cell_type": "code",
   "execution_count": 5,
   "id": "ef7626b2",
   "metadata": {},
   "outputs": [
    {
     "data": {
      "application/vnd.jupyter.widget-view+json": {
       "model_id": "9e6f5f99c2594b7dbfd5f0a511841823",
       "version_major": 2,
       "version_minor": 0
      },
      "text/plain": [
       "exporting log, completed traces ::   0%|          | 0/332 [00:00<?, ?it/s]"
      ]
     },
     "metadata": {},
     "output_type": "display_data"
    },
    {
     "data": {
      "application/vnd.jupyter.widget-view+json": {
       "model_id": "6b3c7b39a7a94161a356d661bc3f2f5f",
       "version_major": 2,
       "version_minor": 0
      },
      "text/plain": [
       "exporting log, completed traces ::   0%|          | 0/14 [00:00<?, ?it/s]"
      ]
     },
     "metadata": {},
     "output_type": "display_data"
    },
    {
     "data": {
      "application/vnd.jupyter.widget-view+json": {
       "model_id": "1ba746986f5e4e7f8cd8d20223826d81",
       "version_major": 2,
       "version_minor": 0
      },
      "text/plain": [
       "exporting log, completed traces ::   0%|          | 0/174 [00:00<?, ?it/s]"
      ]
     },
     "metadata": {},
     "output_type": "display_data"
    },
    {
     "data": {
      "application/vnd.jupyter.widget-view+json": {
       "model_id": "d3921788c30c43038bf811497bff9fbc",
       "version_major": 2,
       "version_minor": 0
      },
      "text/plain": [
       "exporting log, completed traces ::   0%|          | 0/58 [00:00<?, ?it/s]"
      ]
     },
     "metadata": {},
     "output_type": "display_data"
    },
    {
     "data": {
      "application/vnd.jupyter.widget-view+json": {
       "model_id": "860bec30ade2438ca6abaf5198998212",
       "version_major": 2,
       "version_minor": 0
      },
      "text/plain": [
       "exporting log, completed traces ::   0%|          | 0/7503 [00:00<?, ?it/s]"
      ]
     },
     "metadata": {},
     "output_type": "display_data"
    },
    {
     "data": {
      "application/vnd.jupyter.widget-view+json": {
       "model_id": "16601fd056034e4cbbca219a732e8def",
       "version_major": 2,
       "version_minor": 0
      },
      "text/plain": [
       "exporting log, completed traces ::   0%|          | 0/1237 [00:00<?, ?it/s]"
      ]
     },
     "metadata": {},
     "output_type": "display_data"
    }
   ],
   "source": [
    "### splits the input log into compliant and incompliant traces ###\n",
    "def split_by_compliance(log):\n",
    "    \n",
    "    compliant_ids = []\n",
    "    \n",
    "    for trace in log:\n",
    "        \n",
    "        goods_receipt = []\n",
    "        invoice_receipt = []\n",
    "        \n",
    "        sum_goods_receipt = 0\n",
    "        sum_invoice_receipt = 0\n",
    "        \n",
    "        # safe indices of goods_receipt and invoice_receipt;\n",
    "        # caluculate sum(goods_receipt) and sum(invoice_receipt)\n",
    "        for event_idx, event in enumerate(trace):\n",
    "            if event['concept:name'] == 'Record Goods Receipt':\n",
    "                goods_receipt.append(event_idx)\n",
    "                sum_goods_receipt += event['Cumulative net worth (EUR)']\n",
    "            elif event['concept:name'] == 'Record Invoice Receipt':\n",
    "                invoice_receipt.append(event_idx)\n",
    "                sum_invoice_receipt += event['Cumulative net worth (EUR)']\n",
    "            elif event['concept:name'] == 'Cancel Goods Receipt':\n",
    "                sum_goods_receipt -= event['Cumulative net worth (EUR)']\n",
    "            elif event['concept:name'] == 'Cancel Invoice Receipt':\n",
    "                sum_invoice_receipt -= event['Cumulative net worth (EUR)']\n",
    "        \n",
    "        # goods_receipt and invoice_receipt occured both at least once\n",
    "        if goods_receipt and invoice_receipt:\n",
    "            \n",
    "            # First good Receipt before first Invoice Receipt\n",
    "            # and last Invoice Receipt after last good Receipt\n",
    "            if goods_receipt[0] < invoice_receipt[0] and goods_receipt[-1] < invoice_receipt[-1]:\n",
    "                \n",
    "                # sum(invoice_receipt) is in range of +-5% of sum(goods_receipt)\n",
    "                goodwill = sum_goods_receipt * 0.05\n",
    "                if sum_invoice_receipt > sum_goods_receipt - goodwill and sum_invoice_receipt < sum_goods_receipt + goodwill:\n",
    "                    compliant = True\n",
    "                else:\n",
    "                    compliant = False\n",
    "            else:\n",
    "                compliant = False\n",
    "        else:\n",
    "            compliant = False\n",
    "        \n",
    "        # safe compliant traces in list compliant_ids\n",
    "        if compliant:\n",
    "            compliant_ids.append(trace._get_attributes()['concept:name'])\n",
    "    \n",
    "    # filter for the comliant traces\n",
    "    compliant_log = pm4py.filtering.filter_trace_attribute_values(log=log, attribute_key='concept:name',\n",
    "                                                                  values=compliant_ids, retain=True)\n",
    "    # filter out comliant traces\n",
    "    uncompliant_log = pm4py.filtering.filter_trace_attribute_values(log=log, attribute_key='concept:name',\n",
    "                                                                  values=compliant_ids, retain=False)\n",
    "    return compliant_log, uncompliant_log\n",
    "\n",
    "\n",
    "\n",
    "### Seperate compliant and incompliant cases ###\n",
    "\n",
    "# EC Purchase order\n",
    "log_ecPurchaseOrder_compliant, log_ecPurchaseOrder_uncompliant = split_by_compliance(log_ecPurchaseOrder_3wayMatch)\n",
    "write_log_to_file(log_ecPurchaseOrder_compliant, 'Compliance_3wayMatching\\\\EC Purchase order_compliant.xes')\n",
    "write_log_to_file(log_ecPurchaseOrder_uncompliant, 'Compliance_3wayMatching\\\\EC Purchase order_uncompliant.xes')\n",
    "\n",
    "# Framework order\n",
    "log_frameworkOrder_compliant, log_frameworkOrder_uncompliant = split_by_compliance(log_frameworkOrder_3wayMatch)\n",
    "write_log_to_file(log_frameworkOrder_compliant, 'Compliance_3wayMatching\\\\Framework order_compliant.xes')\n",
    "write_log_to_file(log_frameworkOrder_uncompliant, 'Compliance_3wayMatching\\\\Framework order_uncompliant.xes')\n",
    "\n",
    "# Standard PO\n",
    "log_standardPO_compliant, log_standardPO_uncompliant = split_by_compliance(log_standardPO_3wayMatch)\n",
    "write_log_to_file(log_standardPO_compliant, 'Compliance_3wayMatching\\\\Standard PO_compliant.xes')\n",
    "write_log_to_file(log_standardPO_uncompliant, 'Compliance_3wayMatching\\\\Standard PO_uncompliant.xes')"
   ]
  },
  {
   "cell_type": "markdown",
   "id": "c916b0bb",
   "metadata": {},
   "source": [
    "# Process Discovery"
   ]
  },
  {
   "cell_type": "code",
   "execution_count": null,
   "id": "1009c581",
   "metadata": {},
   "outputs": [],
   "source": [
    "# 4. Filter out infrequent variants\n",
    "log_ecPurchaseOrder, log_frameworkOrder, log_standardPO = filter_out_infrequent_variants(log_ecPurchaseOrder, log_frameworkOrder, log_standardPO)\n",
    "\n",
    "# write filtered logs to files\n",
    "write_log_to_file(log_ecPurchaseOrder, 'Preprocessed\\\\EC Purchase order_discovery.xes')\n",
    "write_log_to_file(log_frameworkOrder, 'Preprocessed\\\\Framework order_discovery.xes')\n",
    "write_log_to_file(log_standardPO, 'Preprocessed\\\\Standard PO_discovery.xes')"
   ]
  },
  {
   "cell_type": "code",
   "execution_count": null,
   "id": "ec372589",
   "metadata": {},
   "outputs": [],
   "source": [
    "### SRM Process ###\n",
    "\n",
    "def mine_srm_process():\n",
    "    \n",
    "    # filter for srm process\n",
    "    log_srm = filter_srm_process(log)\n",
    "\n",
    "    # write log_srm to xes file\n",
    "    write_log_to_file(log_srm, 'SRM-Process.xes')\n",
    "\n",
    "# mine petrinet with inductive miner\n",
    "net_srm, initial_marking_srm, final_marking_srm = pm4py.discovery.discover_petri_net_inductive(log_srm, noise_threshold = 0.0)\n",
    "\n",
    "#view petrinet\n",
    "pm4py.view_petri_net(net_srm, initial_marking_srm, final_marking_srm)\n",
    "print(\"SRM Process\\n\\n\\n\\n\")\n",
    "\n",
    "# export petrinet to png file\n",
    "write_pn_to_file(petri_net=net_srm, initial_marking=initial_marking_srm,\n",
    "                 final_marking=final_marking_srm, filename=\"petriNet_SRM-Process.png\")"
   ]
  },
  {
   "cell_type": "code",
   "execution_count": null,
   "id": "7dcca19b",
   "metadata": {},
   "outputs": [],
   "source": [
    "###### Inductive Miner (infrequent) ######\n",
    "\n",
    "\n",
    "### EC Purchase order ###\n",
    "\n",
    "# mine petrinet with inductive miner\n",
    "net_ecPurchaseOrder, initial_marking_ecPurchaseOrder, final_marking_ecPurchaseOrder = pm4py.discovery.discover_petri_net_inductive(log_ecPurchaseOrder, noise_threshold = 0.0)\n",
    "\n",
    "#view petrinet\n",
    "pm4py.view_petri_net(net_ecPurchaseOrder, initial_marking_ecPurchaseOrder, final_marking_ecPurchaseOrder)\n",
    "print(\"EC Purchase order\\n\\n\\n\\n\")\n",
    "\n",
    "# export petrinet to png file\n",
    "write_pn_to_file(petri_net=net_ecPurchaseOrder, initial_marking=initial_marking_ecPurchaseOrder,\n",
    "                 final_marking=final_marking_ecPurchaseOrder, filename=\"petriNet_ecPurchaseOrder.png\")\n",
    "\n",
    "\n",
    "\n",
    "### Framework order ###\n",
    "\n",
    "# mine petrinet with inductive miner\n",
    "net_frameworkOrder, initial_marking_frameworkOrder, final_marking_frameworkOrder = pm4py.discovery.discover_petri_net_inductive(log_frameworkOrder, noise_threshold = 0.2)\n",
    "\n",
    "#view petrinet\n",
    "pm4py.view_petri_net(net_frameworkOrder, initial_marking_frameworkOrder, final_marking_frameworkOrder)\n",
    "print(\"Framework order\\n\\n\\n\\n\")\n",
    "\n",
    "# export petrinet to png file\n",
    "write_pn_to_file(petri_net=net_frameworkOrder, initial_marking=initial_marking_frameworkOrder,\n",
    "                 final_marking=final_marking_frameworkOrder, filename=\"petriNet_frameworkOrder.png\")\n",
    "\n",
    "\n",
    "\n",
    "### Standard PO ###\n",
    "\n",
    "# mine petrinet with inductive miner\n",
    "net_standardPO, initial_marking_standardPO, final_marking_standardPO = pm4py.discovery.discover_petri_net_inductive(log_standardPO, noise_threshold = 0.2)\n",
    "\n",
    "#view petrinet\n",
    "pm4py.view_petri_net(net_standardPO, initial_marking_standardPO, final_marking_standardPO)\n",
    "print(\"Standard PO\\n\\n\\n\\n\")\n",
    "\n",
    "# export petrinet to png file\n",
    "write_pn_to_file(petri_net=net_standardPO, initial_marking=initial_marking_standardPO,\n",
    "                 final_marking=final_marking_standardPO, filename=\"petriNet_standardPO.png\")"
   ]
  }
 ],
 "metadata": {
  "kernelspec": {
   "display_name": "Python 3 (ipykernel)",
   "language": "python",
   "name": "python3"
  },
  "language_info": {
   "codemirror_mode": {
    "name": "ipython",
    "version": 3
   },
   "file_extension": ".py",
   "mimetype": "text/x-python",
   "name": "python",
   "nbconvert_exporter": "python",
   "pygments_lexer": "ipython3",
   "version": "3.9.7"
  }
 },
 "nbformat": 4,
 "nbformat_minor": 5
}
